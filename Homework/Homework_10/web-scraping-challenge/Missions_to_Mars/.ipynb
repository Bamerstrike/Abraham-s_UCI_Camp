{
 "cells": [
  {
   "cell_type": "code",
   "execution_count": 203,
   "metadata": {},
   "outputs": [],
   "source": [
    "from splinter import Browser\n",
    "from bs4 import BeautifulSoup\n",
    "import time\n",
    "import pandas as pd"
   ]
  },
  {
   "cell_type": "code",
   "execution_count": 204,
   "metadata": {},
   "outputs": [],
   "source": [
    "executable_path = {'executable_path': 'chromedriver.exe'}\n",
    "browser = Browser('chrome', **executable_path, headless=False)"
   ]
  },
  {
   "cell_type": "code",
   "execution_count": 205,
   "metadata": {},
   "outputs": [],
   "source": [
    "url1 = 'https://mars.nasa.gov/news/'\n",
    "url2 = 'https://www.jpl.nasa.gov/spaceimages/?search=&category=Mars'\n",
    "url3 = 'https://twitter.com/marswxreport?lang=en'\n",
    "url4 = 'https://space-facts.com/mars/'\n",
    "url5 = \"https://astrogeology.usgs.gov/search/results?q=hemisphere+enhanced&k1=target&v1=Mars\"\n"
   ]
  },
  {
   "cell_type": "code",
   "execution_count": 225,
   "metadata": {},
   "outputs": [
    {
     "data": {
      "text/plain": [
       "['Mars Scientists Investigate Ancient Life in Australia',\n",
       " \"NASA's Mars 2020 Will Hunt for Microscopic Fossils\",\n",
       " 'With Mars Methane Mystery Unsolved, Curiosity Serves Scientists a New One: Oxygen',\n",
       " \"NASA's Mars 2020 Heads Into the Test Chamber\",\n",
       " \"Screening Soon: 'The Pathfinders' Trains Lens on Mars\",\n",
       " \"InSight's 'Mole' Team Peers into the Pit\",\n",
       " \"Common Questions about InSight's 'Mole'\",\n",
       " 'Mars 2020 Stands on Its Own Six Wheels',\n",
       " 'New Selfie Shows Curiosity, the Mars Chemist',\n",
       " 'Naming a NASA Mars Rover Can Change Your Life',\n",
       " 'Mars 2020 Unwrapped and Ready for More Testing',\n",
       " \"HiRISE Views NASA's InSight and Curiosity on Mars\",\n",
       " \"NASA's Curiosity Rover Finds an Ancient Oasis on Mars\",\n",
       " \"NASA's Mars 2020 Rover Tests Descent-Stage Separation\",\n",
       " \"NASA's Push to Save the Mars InSight Lander's Heat Probe\",\n",
       " \"NASA's InSight 'Hears' Peculiar Sounds on Mars\",\n",
       " 'NASA Mars Mission Connects With Bosnian and Herzegovinian Town',\n",
       " \"Deadline Closing for Names to Fly on NASA's Next Mars Rover\",\n",
       " 'NASA Wins Two Emmy Awards for Interactive Mission Coverage',\n",
       " \"NASA's Mars 2020 Comes Full Circle\",\n",
       " 'NASA Invites Students to Name Mars 2020 Rover',\n",
       " \"NASA's Mars Helicopter Attached to Mars 2020 Rover \",\n",
       " \"What's Mars Solar Conjunction, and Why Does It Matter?\",\n",
       " 'Scientists Explore Outback as Testbed for Mars ',\n",
       " \"NASA-JPL Names 'Rolling Stones Rock' on Mars\",\n",
       " \"Robotic Toolkit Added to NASA's Mars 2020 Rover\",\n",
       " \"Space Samples Link NASA's Apollo 11 and Mars 2020\",\n",
       " 'Small Satellite Mission of the Year',\n",
       " \"NASA 'Optometrists' Verify Mars 2020 Rover's 20/20 Vision\",\n",
       " 'New Finds for Mars Rover, Seven Years After Landing',\n",
       " 'MEDLI2 Installation on Mars 2020 Aeroshell Begins',\n",
       " \"NASA's Mars 2020 Rover Does Biceps Curls \",\n",
       " \"Fueling of NASA's Mars 2020 Rover Power System Begins\",\n",
       " 'What Does a Marsquake Look Like?',\n",
       " 'Mars 2020 Rover: T-Minus One Year and Counting ',\n",
       " 'NASA Racks Up Two Emmy Nominations for Mission Coverage',\n",
       " 'Want to Colonize Mars? Aerogel Could Help',\n",
       " 'A Rover Pit Stop at JPL',\n",
       " 'Mars 2020 Rover Gets a Super Instrument',\n",
       " 'A Neil Armstrong for Mars: Landing the Mars 2020 Rover',\n",
       " 'NASA Garners 7 Webby Award Nominations',\n",
       " \"NASA's Opportunity Rover Mission on Mars Comes to End\",\n",
       " \"NASA's InSight Places First Instrument on Mars\",\n",
       " 'NASA Invites Students to Name Mars 2020 Rover',\n",
       " \"NASA's Curiosity Mars Rover Finds a Clay Cache\",\n",
       " 'Why This Martian Full Moon Looks Like Candy',\n",
       " 'NASA Garners 7 Webby Award Nominations',\n",
       " \"NASA's Opportunity Rover Mission on Mars Comes to End\",\n",
       " \"NASA's InSight Places First Instrument on Mars\",\n",
       " 'NASA Invites Students to Name Mars 2020 Rover',\n",
       " \"NASA's Curiosity Mars Rover Finds a Clay Cache\",\n",
       " 'Why This Martian Full Moon Looks Like Candy']"
      ]
     },
     "execution_count": 225,
     "metadata": {},
     "output_type": "execute_result"
    }
   ],
   "source": [
    "#Get Titles\n",
    "browser.visit(url1)\n",
    "html = browser.html\n",
    "soup = BeautifulSoup(html, 'html.parser')\n",
    "title_divs = soup.find_all('div', class_=\"content_title\")\n",
    "titles = []\n",
    "links = []\n",
    "paragraphs = []\n",
    "for title_div in title_divs:\n",
    "    titles.append(title_div.find('a').text.replace(\"\\n\",\"\"))\n",
    "    links.append(f\"https://mars.nasa.gov{title_div.find('a').get('href')}\")\n",
    "\n",
    "#Get paragraph Text\n",
    "main_section = []\n",
    "# for link in links:\n",
    "for link in links:\n",
    "    browser.visit(link)\n",
    "    html = browser.html\n",
    "    soup = BeautifulSoup(html, 'html.parser')\n",
    "    time.sleep(1)    \n",
    "    main_section.append(soup.find(\"div\",class_=\"wysiwyg_content\").find(\"p\").get_text())\n",
    "    #     class=\"wysiwyg_content\"\n",
    "\n",
    "titles"
   ]
  },
  {
   "cell_type": "code",
   "execution_count": 208,
   "metadata": {},
   "outputs": [
    {
     "data": {
      "text/plain": [
       "['https://www.jpl.nasa.gov/spaceimages/images/largesize/PIA23539_hires.jpg',\n",
       " 'https://www.jpl.nasa.gov/spaceimages/images/largesize/PIA23512_hires.jpg',\n",
       " 'https://www.jpl.nasa.gov/spaceimages/images/largesize/PIA23538_hires.jpg',\n",
       " 'https://www.jpl.nasa.gov/spaceimages/images/largesize/PIA23537_hires.jpg',\n",
       " 'https://www.jpl.nasa.gov/spaceimages/images/largesize/PIA23536_hires.jpg',\n",
       " 'https://www.jpl.nasa.gov/spaceimages/images/largesize/PIA23525_hires.jpg',\n",
       " 'https://www.jpl.nasa.gov/spaceimages/images/largesize/PIA23524_hires.jpg',\n",
       " 'https://www.jpl.nasa.gov/spaceimages/images/largesize/PIA23523_hires.jpg',\n",
       " 'https://www.jpl.nasa.gov/spaceimages/images/largesize/PIA23522_hires.jpg',\n",
       " 'https://www.jpl.nasa.gov/spaceimages/images/largesize/PIA23521_hires.jpg',\n",
       " 'https://www.jpl.nasa.gov/spaceimages/images/largesize/PIA23213_hires.jpg',\n",
       " 'https://www.jpl.nasa.gov/spaceimages/images/largesize/PIA23510_hires.jpg',\n",
       " 'https://www.jpl.nasa.gov/spaceimages/images/largesize/PIA23378_hires.jpg',\n",
       " 'https://www.jpl.nasa.gov/spaceimages/images/largesize/PIA23509_hires.jpg',\n",
       " 'https://www.jpl.nasa.gov/spaceimages/images/largesize/PIA23508_hires.jpg',\n",
       " 'https://www.jpl.nasa.gov/spaceimages/images/largesize/PIA23507_hires.jpg',\n",
       " 'https://www.jpl.nasa.gov/spaceimages/images/largesize/PIA23530_hires.jpg',\n",
       " 'https://www.jpl.nasa.gov/spaceimages/images/largesize/PIA23529_hires.jpg',\n",
       " 'https://www.jpl.nasa.gov/spaceimages/images/largesize/PIA23528_hires.jpg',\n",
       " 'https://www.jpl.nasa.gov/spaceimages/images/largesize/PIA23527_hires.jpg',\n",
       " 'https://www.jpl.nasa.gov/spaceimages/images/largesize/PIA23506_hires.jpg',\n",
       " 'https://www.jpl.nasa.gov/spaceimages/images/largesize/PIA23505_hires.jpg',\n",
       " 'https://www.jpl.nasa.gov/spaceimages/images/largesize/PIA23379_hires.jpg',\n",
       " 'https://www.jpl.nasa.gov/spaceimages/images/largesize/PIA23504_hires.jpg',\n",
       " 'https://www.jpl.nasa.gov/spaceimages/images/largesize/PIA23377_hires.jpg',\n",
       " 'https://www.jpl.nasa.gov/spaceimages/images/largesize/PIA23376_hires.jpg',\n",
       " 'https://www.jpl.nasa.gov/spaceimages/images/largesize/PIA23503_hires.jpg',\n",
       " 'https://www.jpl.nasa.gov/spaceimages/images/largesize/PIA23502_hires.jpg',\n",
       " 'https://www.jpl.nasa.gov/spaceimages/images/largesize/PIA23501_hires.jpg',\n",
       " 'https://www.jpl.nasa.gov/spaceimages/images/largesize/PIA23489_hires.jpg',\n",
       " 'https://www.jpl.nasa.gov/spaceimages/images/largesize/PIA23488_hires.jpg',\n",
       " 'https://www.jpl.nasa.gov/spaceimages/images/largesize/PIA23487_hires.jpg']"
      ]
     },
     "execution_count": 208,
     "metadata": {},
     "output_type": "execute_result"
    }
   ],
   "source": [
    "#Get Space Images\n",
    "featured_image_url = []\n",
    "\n",
    "browser.visit(url2)\n",
    "html = browser.html\n",
    "soup = BeautifulSoup(html, 'html.parser')\n",
    "section = soup.find('section', class_=\"grid_gallery module grid_view\")\n",
    "list_items = section.find_all('a',class_=\"fancybox\")\n",
    "for list_item in list_items:\n",
    "    image_url = list_item.get(\"data-fancybox-href\")\n",
    "    featured_image_url.append(f\"https://www.jpl.nasa.gov{image_url}\")\n",
    "\n",
    "\n",
    "featured_image_url"
   ]
  },
  {
   "cell_type": "code",
   "execution_count": 224,
   "metadata": {
    "scrolled": true
   },
   "outputs": [
    {
     "data": {
      "text/plain": [
       "['InSight sol 344 (2019-11-15) low -99.9ºC (-147.9ºF) high -23.3ºC (-9.9ºF)\\nwinds from the SSE at 5.7 m/s (12.9 mph) gusting to 18.9 m/s (42.3 mph)\\npressure at 6.80 hPa',\n",
       " 'InSight sol 343 (2019-11-13) low -100.8ºC (-149.4ºF) high -23.1ºC (-9.5ºF)\\nwinds from the SSE at 5.2 m/s (11.7 mph) gusting to 20.8 m/s (46.5 mph)\\npressure at 6.90 hPa',\n",
       " 'InSight sol 342 (2019-11-13) low -99.9ºC (-147.8ºF) high -23.3ºC (-9.9ºF)\\nwinds from the SW at 5.2 m/s (11.7 mph) gusting to 20.5 m/s (46.0 mph)\\npressure at 6.90 hPa',\n",
       " 'InSight sol 341 (2019-11-11) low -100.2ºC (-148.4ºF) high -23.1ºC (-9.7ºF)\\nwinds from the SSE at 5.6 m/s (12.4 mph) gusting to 21.7 m/s (48.6 mph)\\npressure at 6.80 hPa',\n",
       " 'InSight sol 340 (2019-11-10) low -101.0ºC (-149.8ºF) high -24.4ºC (-12.0ºF)\\nwinds from the SSE at 5.3 m/s (11.9 mph) gusting to 20.4 m/s (45.6 mph)\\npressure at 6.90 hPa',\n",
       " 'InSight sol 339 (2019-11-09) low -99.9ºC (-147.8ºF) high -23.4ºC (-10.2ºF)\\nwinds from the SSE at 5.1 m/s (11.4 mph) gusting to 20.8 m/s (46.5 mph)\\npressure at 6.90 hPa',\n",
       " 'InSight sol 338 (2019-11-08) low -102.5ºC (-152.5ºF) high -24.0ºC (-11.1ºF)\\nwinds from the SSE at 5.3 m/s (11.9 mph) gusting to 19.6 m/s (43.9 mph)\\npressure at 6.90 hPa',\n",
       " 'InSight sol 337 (2019-11-07) low -101.8ºC (-151.2ºF) high -24.0ºC (-11.3ºF)\\nwinds from the SSE at 4.9 m/s (11.0 mph) gusting to 21.2 m/s (47.5 mph)\\npressure at 6.90 hPa',\n",
       " 'InSight sol 336 (2019-11-06) low -101.4ºC (-150.6ºF) high -24.0ºC (-11.2ºF)\\nwinds from the SSE at 4.7 m/s (10.6 mph) gusting to 18.7 m/s (41.9 mph)\\npressure at 6.90 hPa',\n",
       " 'InSight sol 335 (2019-11-05) low -100.6ºC (-149.1ºF) high -24.3ºC (-11.8ºF)\\nwinds from the SSE at 4.9 m/s (10.9 mph) gusting to 19.9 m/s (44.5 mph)\\npressure at 6.90 hPa',\n",
       " 'InSight sol 334 (2019-11-04) low -100.0ºC (-148.1ºF) high -23.8ºC (-10.8ºF)\\nwinds from the SSW at 5.1 m/s (11.4 mph) gusting to 19.9 m/s (44.4 mph)\\npressure at 7.00 hPa',\n",
       " 'InSight sol 333 (2019-11-03) low -100.8ºC (-149.4ºF) high -25.8ºC (-14.4ºF)\\nwinds from the SSW at 4.9 m/s (11.0 mph) gusting to 18.0 m/s (40.4 mph)\\npressure at 6.90 hPa',\n",
       " 'InSight sol 332 (2019-11-02) low -99.8ºC (-147.7ºF) high -25.2ºC (-13.3ºF)\\nwinds from the SSW at 4.1 m/s (9.2 mph) gusting to 18.7 m/s (41.9 mph)\\npressure at 6.90 hPa',\n",
       " 'InSight sol 331 (2019-11-01) low -100.9ºC (-149.6ºF) high -24.6ºC (-12.3ºF)\\nwinds from the SSE at 5.2 m/s (11.6 mph) gusting to 18.5 m/s (41.4 mph)\\npressure at 7.00 hPa',\n",
       " 'InSight sol 330 (2019-10-31) low -101.8ºC (-151.3ºF) high -24.8ºC (-12.6ºF)\\nwinds from the SSE at 5.4 m/s (12.2 mph) gusting to 20.8 m/s (46.5 mph)\\npressure at 7.00 hPa',\n",
       " 'InSight sol 329 (2019-10-30) low -101.5ºC (-150.7ºF) high -25.0ºC (-13.0ºF)\\nwinds from the SSE at 5.2 m/s (11.6 mph) gusting to 19.2 m/s (42.8 mph)\\npressure at 7.00 hPa',\n",
       " 'InSight sol 328 (2019-10-29) low -102.3ºC (-152.2ºF) high -25.2ºC (-13.3ºF)\\nwinds from the SSE at 4.9 m/s (10.9 mph) gusting to 18.3 m/s (40.9 mph)\\npressure at 7.00 hPa',\n",
       " 'InSight sol 327 (2019-10-28) low -102.6ºC (-152.7ºF) high -25.3ºC (-13.5ºF)\\nwinds from the SSE at 5.6 m/s (12.5 mph) gusting to 19.6 m/s (43.8 mph)\\npressure at 7.00 hPa',\n",
       " 'InSight sol 326 (2019-10-27) low -101.4ºC (-150.5ºF) high -23.7ºC (-10.7ºF)\\nwinds from the SSE at 5.2 m/s (11.5 mph) gusting to 18.2 m/s (40.8 mph)\\npressure at 7.00 hPa']"
      ]
     },
     "execution_count": 224,
     "metadata": {},
     "output_type": "execute_result"
    }
   ],
   "source": [
    "#Mars Weather\n",
    "Mars_Weather = []\n",
    "browser.visit(url3)\n",
    "html = browser.html\n",
    "soup = BeautifulSoup(html, 'html.parser')\n",
    "\n",
    "\n",
    "tweet_box = soup.find_all(\"p\", class_=\"TweetTextSize TweetTextSize--normal js-tweet-text tweet-text\")\n",
    "# tweet_items = tweet_box[0].find_all(\"p\", class_=\"TweetTextSize TweetTextSize--normal js-tweet-text tweet-text\")\n",
    "# tweet_items[0]\n",
    "\n",
    "for tweet in tweet_box:\n",
    "    if \"º\" in tweet.get_text():\n",
    "        try:\n",
    "            link_begone = tweet.find('a').get_text()\n",
    "            Mars_Weather.append(tweet.get_text().replace(link_begone,\"\"))\n",
    "        except(AttributeError):\n",
    "            Mars_Weather.append(tweet.get_text())\n",
    "            \n",
    "\n",
    "Mars_Weather"
   ]
  },
  {
   "cell_type": "code",
   "execution_count": 327,
   "metadata": {},
   "outputs": [],
   "source": [
    "#Mars Facts\n",
    "\n",
    "Mars_Facts = []\n",
    "Mars_Facts = pd.read_html(url4)\n",
    "Mars_Properties = Mars_Facts[0]\n",
    "Mars_Comparison = Mars_Facts[1]"
   ]
  },
  {
   "cell_type": "code",
   "execution_count": 325,
   "metadata": {},
   "outputs": [],
   "source": [
    "#Mars Hemispheres\n",
    "Mars_Hemispheres = []\n",
    "Picture_Site = []\n",
    "browser.visit(url5)\n",
    "html = browser.html\n",
    "soup = BeautifulSoup(html, 'html.parser')\n",
    "\n",
    "Planet_Hemispheres = soup.find_all(\"section\",class_=\"block\")[0]\n",
    "Titles = Planet_Hemispheres.find_all(\"h3\")\n",
    "\n",
    "\n",
    "for extension in Planet_Hemispheres.find_all(\"div\", class_=\"item\"):\n",
    "    link = \"https://astrogeology.usgs.gov\"+extension.a[\"href\"]\n",
    "    browser.visit(link)\n",
    "    html = browser.html\n",
    "    soup = BeautifulSoup(html,'html.parser')\n",
    "    Picture_Site.append(soup.find_all('a',{\"target\":\"_blank\"})[1][\"href\"])\n",
    "\n",
    "for i in range(len(Titles)):\n",
    "    Mars_Hemispheres.append({\"Title\":Titles[i].get_text(), \"img_url\" : Picture_Site[i]})"
   ]
  },
  {
   "cell_type": "code",
   "execution_count": null,
   "metadata": {},
   "outputs": [],
   "source": []
  }
 ],
 "metadata": {
  "kernelspec": {
   "display_name": "Python [conda env:PythonData]",
   "language": "python",
   "name": "conda-env-PythonData-py"
  },
  "language_info": {
   "codemirror_mode": {
    "name": "ipython",
    "version": 3
   },
   "file_extension": ".py",
   "mimetype": "text/x-python",
   "name": "python",
   "nbconvert_exporter": "python",
   "pygments_lexer": "ipython3",
   "version": "3.6.9"
  }
 },
 "nbformat": 4,
 "nbformat_minor": 2
}
