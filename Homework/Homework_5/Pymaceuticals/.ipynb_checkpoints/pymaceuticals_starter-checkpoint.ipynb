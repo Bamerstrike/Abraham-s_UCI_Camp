{
 "cells": [
  {
   "cell_type": "markdown",
   "metadata": {},
   "source": [
    "## Observations and Insights"
   ]
  },
  {
   "cell_type": "markdown",
   "metadata": {},
   "source": []
  },
  {
   "cell_type": "markdown",
   "metadata": {},
   "source": [
    "## Dependencies and starter code"
   ]
  },
  {
   "cell_type": "code",
   "execution_count": 13,
   "metadata": {},
   "outputs": [
    {
     "data": {
      "text/html": [
       "<div>\n",
       "<style scoped>\n",
       "    .dataframe tbody tr th:only-of-type {\n",
       "        vertical-align: middle;\n",
       "    }\n",
       "\n",
       "    .dataframe tbody tr th {\n",
       "        vertical-align: top;\n",
       "    }\n",
       "\n",
       "    .dataframe thead th {\n",
       "        text-align: right;\n",
       "    }\n",
       "</style>\n",
       "<table border=\"1\" class=\"dataframe\">\n",
       "  <thead>\n",
       "    <tr style=\"text-align: right;\">\n",
       "      <th></th>\n",
       "      <th>Mouse ID</th>\n",
       "      <th>Drug Regimen</th>\n",
       "      <th>Sex</th>\n",
       "      <th>Age_months</th>\n",
       "      <th>Weight (g)</th>\n",
       "      <th>Timepoint</th>\n",
       "      <th>Tumor Volume (mm3)</th>\n",
       "      <th>Metastatic Sites</th>\n",
       "    </tr>\n",
       "  </thead>\n",
       "  <tbody>\n",
       "    <tr>\n",
       "      <td>0</td>\n",
       "      <td>k403</td>\n",
       "      <td>Ramicane</td>\n",
       "      <td>Male</td>\n",
       "      <td>21</td>\n",
       "      <td>16</td>\n",
       "      <td>0</td>\n",
       "      <td>45.000000</td>\n",
       "      <td>0</td>\n",
       "    </tr>\n",
       "    <tr>\n",
       "      <td>1</td>\n",
       "      <td>k403</td>\n",
       "      <td>Ramicane</td>\n",
       "      <td>Male</td>\n",
       "      <td>21</td>\n",
       "      <td>16</td>\n",
       "      <td>5</td>\n",
       "      <td>38.825898</td>\n",
       "      <td>0</td>\n",
       "    </tr>\n",
       "    <tr>\n",
       "      <td>2</td>\n",
       "      <td>k403</td>\n",
       "      <td>Ramicane</td>\n",
       "      <td>Male</td>\n",
       "      <td>21</td>\n",
       "      <td>16</td>\n",
       "      <td>10</td>\n",
       "      <td>35.014271</td>\n",
       "      <td>1</td>\n",
       "    </tr>\n",
       "    <tr>\n",
       "      <td>3</td>\n",
       "      <td>k403</td>\n",
       "      <td>Ramicane</td>\n",
       "      <td>Male</td>\n",
       "      <td>21</td>\n",
       "      <td>16</td>\n",
       "      <td>15</td>\n",
       "      <td>34.223992</td>\n",
       "      <td>1</td>\n",
       "    </tr>\n",
       "    <tr>\n",
       "      <td>4</td>\n",
       "      <td>k403</td>\n",
       "      <td>Ramicane</td>\n",
       "      <td>Male</td>\n",
       "      <td>21</td>\n",
       "      <td>16</td>\n",
       "      <td>20</td>\n",
       "      <td>32.997729</td>\n",
       "      <td>1</td>\n",
       "    </tr>\n",
       "    <tr>\n",
       "      <td>5</td>\n",
       "      <td>k403</td>\n",
       "      <td>Ramicane</td>\n",
       "      <td>Male</td>\n",
       "      <td>21</td>\n",
       "      <td>16</td>\n",
       "      <td>25</td>\n",
       "      <td>33.464577</td>\n",
       "      <td>1</td>\n",
       "    </tr>\n",
       "    <tr>\n",
       "      <td>6</td>\n",
       "      <td>k403</td>\n",
       "      <td>Ramicane</td>\n",
       "      <td>Male</td>\n",
       "      <td>21</td>\n",
       "      <td>16</td>\n",
       "      <td>30</td>\n",
       "      <td>31.099498</td>\n",
       "      <td>1</td>\n",
       "    </tr>\n",
       "    <tr>\n",
       "      <td>7</td>\n",
       "      <td>k403</td>\n",
       "      <td>Ramicane</td>\n",
       "      <td>Male</td>\n",
       "      <td>21</td>\n",
       "      <td>16</td>\n",
       "      <td>35</td>\n",
       "      <td>26.546993</td>\n",
       "      <td>1</td>\n",
       "    </tr>\n",
       "    <tr>\n",
       "      <td>8</td>\n",
       "      <td>k403</td>\n",
       "      <td>Ramicane</td>\n",
       "      <td>Male</td>\n",
       "      <td>21</td>\n",
       "      <td>16</td>\n",
       "      <td>40</td>\n",
       "      <td>24.365505</td>\n",
       "      <td>1</td>\n",
       "    </tr>\n",
       "    <tr>\n",
       "      <td>9</td>\n",
       "      <td>k403</td>\n",
       "      <td>Ramicane</td>\n",
       "      <td>Male</td>\n",
       "      <td>21</td>\n",
       "      <td>16</td>\n",
       "      <td>45</td>\n",
       "      <td>22.050126</td>\n",
       "      <td>1</td>\n",
       "    </tr>\n",
       "    <tr>\n",
       "      <td>10</td>\n",
       "      <td>s185</td>\n",
       "      <td>Capomulin</td>\n",
       "      <td>Female</td>\n",
       "      <td>3</td>\n",
       "      <td>17</td>\n",
       "      <td>0</td>\n",
       "      <td>45.000000</td>\n",
       "      <td>0</td>\n",
       "    </tr>\n",
       "    <tr>\n",
       "      <td>11</td>\n",
       "      <td>s185</td>\n",
       "      <td>Capomulin</td>\n",
       "      <td>Female</td>\n",
       "      <td>3</td>\n",
       "      <td>17</td>\n",
       "      <td>5</td>\n",
       "      <td>43.878496</td>\n",
       "      <td>0</td>\n",
       "    </tr>\n",
       "    <tr>\n",
       "      <td>12</td>\n",
       "      <td>s185</td>\n",
       "      <td>Capomulin</td>\n",
       "      <td>Female</td>\n",
       "      <td>3</td>\n",
       "      <td>17</td>\n",
       "      <td>10</td>\n",
       "      <td>37.614948</td>\n",
       "      <td>0</td>\n",
       "    </tr>\n",
       "    <tr>\n",
       "      <td>13</td>\n",
       "      <td>s185</td>\n",
       "      <td>Capomulin</td>\n",
       "      <td>Female</td>\n",
       "      <td>3</td>\n",
       "      <td>17</td>\n",
       "      <td>15</td>\n",
       "      <td>38.177232</td>\n",
       "      <td>0</td>\n",
       "    </tr>\n",
       "    <tr>\n",
       "      <td>14</td>\n",
       "      <td>s185</td>\n",
       "      <td>Capomulin</td>\n",
       "      <td>Female</td>\n",
       "      <td>3</td>\n",
       "      <td>17</td>\n",
       "      <td>20</td>\n",
       "      <td>36.866876</td>\n",
       "      <td>0</td>\n",
       "    </tr>\n",
       "  </tbody>\n",
       "</table>\n",
       "</div>"
      ],
      "text/plain": [
       "   Mouse ID Drug Regimen     Sex  Age_months  Weight (g)  Timepoint  \\\n",
       "0      k403     Ramicane    Male          21          16          0   \n",
       "1      k403     Ramicane    Male          21          16          5   \n",
       "2      k403     Ramicane    Male          21          16         10   \n",
       "3      k403     Ramicane    Male          21          16         15   \n",
       "4      k403     Ramicane    Male          21          16         20   \n",
       "5      k403     Ramicane    Male          21          16         25   \n",
       "6      k403     Ramicane    Male          21          16         30   \n",
       "7      k403     Ramicane    Male          21          16         35   \n",
       "8      k403     Ramicane    Male          21          16         40   \n",
       "9      k403     Ramicane    Male          21          16         45   \n",
       "10     s185    Capomulin  Female           3          17          0   \n",
       "11     s185    Capomulin  Female           3          17          5   \n",
       "12     s185    Capomulin  Female           3          17         10   \n",
       "13     s185    Capomulin  Female           3          17         15   \n",
       "14     s185    Capomulin  Female           3          17         20   \n",
       "\n",
       "    Tumor Volume (mm3)  Metastatic Sites  \n",
       "0            45.000000                 0  \n",
       "1            38.825898                 0  \n",
       "2            35.014271                 1  \n",
       "3            34.223992                 1  \n",
       "4            32.997729                 1  \n",
       "5            33.464577                 1  \n",
       "6            31.099498                 1  \n",
       "7            26.546993                 1  \n",
       "8            24.365505                 1  \n",
       "9            22.050126                 1  \n",
       "10           45.000000                 0  \n",
       "11           43.878496                 0  \n",
       "12           37.614948                 0  \n",
       "13           38.177232                 0  \n",
       "14           36.866876                 0  "
      ]
     },
     "execution_count": 13,
     "metadata": {},
     "output_type": "execute_result"
    }
   ],
   "source": [
    "# Dependencies and Setup\n",
    "import matplotlib.pyplot as plt\n",
    "import pandas as pd\n",
    "import scipy.stats as st\n",
    "import numpy as np\n",
    "\n",
    "# Study data files\n",
    "mouse_metadata = \"data/Mouse_metadata.csv\"\n",
    "study_results = \"data/Study_results.csv\"\n",
    "\n",
    "# Read the mouse data and the study results\n",
    "mouse_metadata = pd.read_csv(mouse_metadata)\n",
    "study_results = pd.read_csv(study_results)\n",
    "\n",
    "# Combine the data into a single dataset\n",
    "Combined_Results = pd.merge(mouse_metadata, study_results, on=\"Mouse ID\", how = \"outer\")\n",
    "Combined_Results = Combined_Results.dropna()\n",
    "Combined_Results.head(15)"
   ]
  },
  {
   "cell_type": "markdown",
   "metadata": {},
   "source": [
    "## Summary statistics"
   ]
  },
  {
   "cell_type": "code",
   "execution_count": 2,
   "metadata": {},
   "outputs": [
    {
     "data": {
      "text/plain": [
       "ModeResult(mode=array([45.]), count=array([250]))"
      ]
     },
     "execution_count": 2,
     "metadata": {},
     "output_type": "execute_result"
    }
   ],
   "source": [
    "Combined_Results[\"Tumor Volume (mm3)\"].mean()\n",
    "st.mode(Combined_Results[\"Tumor Volume (mm3)\"])\n",
    "#How come this works, but not with a groupby object?"
   ]
  },
  {
   "cell_type": "code",
   "execution_count": 19,
   "metadata": {},
   "outputs": [
    {
     "data": {
      "text/html": [
       "<div>\n",
       "<style scoped>\n",
       "    .dataframe tbody tr th:only-of-type {\n",
       "        vertical-align: middle;\n",
       "    }\n",
       "\n",
       "    .dataframe tbody tr th {\n",
       "        vertical-align: top;\n",
       "    }\n",
       "\n",
       "    .dataframe thead th {\n",
       "        text-align: right;\n",
       "    }\n",
       "</style>\n",
       "<table border=\"1\" class=\"dataframe\">\n",
       "  <thead>\n",
       "    <tr style=\"text-align: right;\">\n",
       "      <th></th>\n",
       "      <th>Mean</th>\n",
       "      <th>Median</th>\n",
       "      <th>Mode</th>\n",
       "      <th>Variance</th>\n",
       "      <th>SEM</th>\n",
       "    </tr>\n",
       "    <tr>\n",
       "      <th>Drug Regimen</th>\n",
       "      <th></th>\n",
       "      <th></th>\n",
       "      <th></th>\n",
       "      <th></th>\n",
       "      <th></th>\n",
       "    </tr>\n",
       "  </thead>\n",
       "  <tbody>\n",
       "    <tr>\n",
       "      <td>Capomulin</td>\n",
       "      <td>40.675741</td>\n",
       "      <td>41.557809</td>\n",
       "      <td>45.0</td>\n",
       "      <td>24.947764</td>\n",
       "      <td>0.329346</td>\n",
       "    </tr>\n",
       "    <tr>\n",
       "      <td>Ceftamin</td>\n",
       "      <td>52.591172</td>\n",
       "      <td>51.776157</td>\n",
       "      <td>45.0</td>\n",
       "      <td>39.290177</td>\n",
       "      <td>0.469821</td>\n",
       "    </tr>\n",
       "    <tr>\n",
       "      <td>Infubinol</td>\n",
       "      <td>52.884795</td>\n",
       "      <td>51.820584</td>\n",
       "      <td>45.0</td>\n",
       "      <td>43.128684</td>\n",
       "      <td>0.492236</td>\n",
       "    </tr>\n",
       "    <tr>\n",
       "      <td>Ketapril</td>\n",
       "      <td>55.235638</td>\n",
       "      <td>53.698743</td>\n",
       "      <td>45.0</td>\n",
       "      <td>68.553577</td>\n",
       "      <td>0.603860</td>\n",
       "    </tr>\n",
       "    <tr>\n",
       "      <td>Naftisol</td>\n",
       "      <td>54.331565</td>\n",
       "      <td>52.509285</td>\n",
       "      <td>45.0</td>\n",
       "      <td>66.173479</td>\n",
       "      <td>0.596466</td>\n",
       "    </tr>\n",
       "    <tr>\n",
       "      <td>Placebo</td>\n",
       "      <td>54.033581</td>\n",
       "      <td>52.288934</td>\n",
       "      <td>45.0</td>\n",
       "      <td>61.168083</td>\n",
       "      <td>0.581331</td>\n",
       "    </tr>\n",
       "    <tr>\n",
       "      <td>Propriva</td>\n",
       "      <td>52.322552</td>\n",
       "      <td>50.854632</td>\n",
       "      <td>45.0</td>\n",
       "      <td>42.351070</td>\n",
       "      <td>0.512884</td>\n",
       "    </tr>\n",
       "    <tr>\n",
       "      <td>Ramicane</td>\n",
       "      <td>40.216745</td>\n",
       "      <td>40.673236</td>\n",
       "      <td>45.0</td>\n",
       "      <td>23.486704</td>\n",
       "      <td>0.320955</td>\n",
       "    </tr>\n",
       "    <tr>\n",
       "      <td>Stelasyn</td>\n",
       "      <td>54.233149</td>\n",
       "      <td>52.431737</td>\n",
       "      <td>45.0</td>\n",
       "      <td>59.450562</td>\n",
       "      <td>0.573111</td>\n",
       "    </tr>\n",
       "    <tr>\n",
       "      <td>Zoniferol</td>\n",
       "      <td>53.236507</td>\n",
       "      <td>51.818479</td>\n",
       "      <td>45.0</td>\n",
       "      <td>48.533355</td>\n",
       "      <td>0.516398</td>\n",
       "    </tr>\n",
       "  </tbody>\n",
       "</table>\n",
       "</div>"
      ],
      "text/plain": [
       "                   Mean     Median  Mode   Variance       SEM\n",
       "Drug Regimen                                                 \n",
       "Capomulin     40.675741  41.557809  45.0  24.947764  0.329346\n",
       "Ceftamin      52.591172  51.776157  45.0  39.290177  0.469821\n",
       "Infubinol     52.884795  51.820584  45.0  43.128684  0.492236\n",
       "Ketapril      55.235638  53.698743  45.0  68.553577  0.603860\n",
       "Naftisol      54.331565  52.509285  45.0  66.173479  0.596466\n",
       "Placebo       54.033581  52.288934  45.0  61.168083  0.581331\n",
       "Propriva      52.322552  50.854632  45.0  42.351070  0.512884\n",
       "Ramicane      40.216745  40.673236  45.0  23.486704  0.320955\n",
       "Stelasyn      54.233149  52.431737  45.0  59.450562  0.573111\n",
       "Zoniferol     53.236507  51.818479  45.0  48.533355  0.516398"
      ]
     },
     "execution_count": 19,
     "metadata": {},
     "output_type": "execute_result"
    }
   ],
   "source": [
    "# Generate a summary statistics table of mean, median, variance, standard deviation, and SEM of the tumor volume for each regimen\n",
    "Information_Table=pd.DataFrame()\n",
    "Drug_List= Combined_Results.groupby(\"Drug Regimen\")[\"Tumor Volume (mm3)\"]\n",
    "\n",
    "# Mean\n",
    "Information_Table[\"Mean\"]=Drug_List.mean()\n",
    "\n",
    "# Median\n",
    "Information_Table[\"Median\"]= Drug_List.median()\n",
    "\n",
    "# Finding Mode because scipy.stats.mode doesn't work with series objects\n",
    "Mode_List = Drug_List.value_counts()\n",
    "Mode_List = Drug_List.apply(lambda x: x.mode())\n",
    "    # Not sure I understand lambda function. Takes the function as input x, and the space after : is the action.\n",
    "    # .apply would allow me to use the groupby object and use it in the lambda function.\n",
    "    # https://pandas.pydata.org/pandas-docs/stable/reference/api/pandas.DataFrame.apply.html\n",
    "    # https://github.com/pandas-dev/pandas/issues/13809\n",
    "# Clean up to merge mode list into the information table\n",
    "Information_Table = pd.merge(Information_Table,Mode_List, on=\"Drug Regimen\")\n",
    "Information_Table = Information_Table.rename(columns={\"Tumor Volume (mm3)\":\"Mode\"})\n",
    "\n",
    "# Variance\n",
    "Information_Table[\"Variance\"]=Drug_List.var()\n",
    "\n",
    "# Standard Error of Mean\n",
    "Information_Table[\"SEM\"] = Drug_List.sem()\n",
    "\n",
    "# Output\n",
    "Information_Table\n"
   ]
  },
  {
   "cell_type": "markdown",
   "metadata": {},
   "source": [
    "## Bar plots"
   ]
  },
  {
   "cell_type": "code",
   "execution_count": 4,
   "metadata": {},
   "outputs": [
    {
     "data": {
      "image/png": "[encoded data removed]",
      "text/plain": [
       "<Figure size 432x288 with 1 Axes>"
      ]
     },
     "metadata": {
      "needs_background": "light"
     },
     "output_type": "display_data"
    }
   ],
   "source": [
    "# Generate a bar plot showing number of data points for each treatment regimen using pandas\n",
    "PandasPlot = Information_Table[\"Mean\"].plot(kind=\"bar\",title = \"Average Tumor Volume for Each Regimen\")\n",
    "PandasPlot.set_ylabel(\"Average Tumor Volume (mm3)\")\n",
    "\n",
    "# https://stackoverflow.com/questions/30228069/how-to-display-the-value-of-the-bar-on-each-bar-with-pyplot-barh\n",
    "    # Found this example here, it was helpful to tell me I am getting a different number.\n",
    "    # Plus, it looks nice, kinda.\n",
    "for i in range(len(Information_Table.index)):\n",
    "    plt.text(i,Information_Table[\"Mean\"][i]/2,str(round(Information_Table[\"Mean\"][i],3)), rotation = \"vertical\", color=\"purple\",\n",
    "             verticalalignment = \"center\", horizontalalignment = \"center\")\n",
    "\n"
   ]
  },
  {
   "cell_type": "code",
   "execution_count": 5,
   "metadata": {},
   "outputs": [
    {
     "data": {
      "text/plain": [
       "([0, 1, 2, 3, 4, 5, 6, 7, 8, 9], <a list of 10 Text xticklabel objects>)"
      ]
     },
     "execution_count": 5,
     "metadata": {},
     "output_type": "execute_result"
    },
    {
     "data": {
      "image/png": "[encoded data removed]",
      "text/plain": [
       "<Figure size 432x288 with 1 Axes>"
      ]
     },
     "metadata": {
      "needs_background": "light"
     },
     "output_type": "display_data"
    }
   ],
   "source": [
    "# Generate a bar plot showing number of data points for each treatment regimen using pyplot\n",
    "plt.bar(Information_Table.index,Information_Table[\"Mean\"], width=0.6,color=\"y\")\n",
    "plt.title(\"Average Tumor Volume for Each Regimen\")\n",
    "plt.xlabel(\"Drug Regimen\")\n",
    "plt.ylabel(\"Average Tumor Volume (mm3)\")\n",
    "\n",
    "for i in range(len(Information_Table.index)):\n",
    "    plt.text(i,Information_Table[\"Mean\"][i]/2,str(round(Information_Table[\"Mean\"][i],3)), rotation = \"vertical\",\n",
    "            verticalalignment = \"center\", horizontalalignment = \"center\")\n",
    "\n",
    "\n",
    "plt.xticks(rotation = 90) "
   ]
  },
  {
   "cell_type": "markdown",
   "metadata": {},
   "source": [
    "## Pie plots"
   ]
  },
  {
   "cell_type": "code",
   "execution_count": 6,
   "metadata": {},
   "outputs": [
    {
     "data": {
      "image/png": "[encoded data removed]",
      "text/plain": [
       "<Figure size 432x288 with 1 Axes>"
      ]
     },
     "metadata": {
      "needs_background": "light"
     },
     "output_type": "display_data"
    }
   ],
   "source": [
    "# Generate a pie plot showing the distribution of female versus male mice using pandas\n",
    "# Grab only Mouse ID and gender\n",
    "Genderless_Mice = Combined_Results.loc[:,[\"Mouse ID\",\"Sex\"]]\n",
    "\n",
    "# Group them by Mouse ID\n",
    "Genderless_Mice = Genderless_Mice.groupby(\"Mouse ID\")\n",
    "\n",
    "#Gets gender count\n",
    "Genderless_Mice = Genderless_Mice.describe()[\"Sex\"][\"top\"].value_counts()\n",
    "\n",
    "#Plot with Pandas, bar graph\n",
    "Genderless_Mice_Plot = Genderless_Mice.plot(kind = \"bar\",title=\"Frequency of Mice Gender\")\n",
    "Genderless_Mice_Plot.set_xlabel(\"Gender\")\n",
    "Genderless_Mice_Plot.set_ylabel(\"Total Count\")\n",
    "\n",
    "# Gets the number count and prints it to the respective bar\n",
    "for i, Y_Values in enumerate((Genderless_Mice)):\n",
    "    plt.text(i,Y_Values/Y_Values, str(Y_Values), color = \"red\", fontsize = 18, horizontalalignment = \"center\")\n"
   ]
  },
  {
   "cell_type": "code",
   "execution_count": 7,
   "metadata": {},
   "outputs": [
    {
     "data": {
      "text/plain": [
       "Text(0.5, 0, 'Gender')"
      ]
     },
     "execution_count": 7,
     "metadata": {},
     "output_type": "execute_result"
    },
    {
     "data": {
      "image/png": "[encoded data removed]",
      "text/plain": [
       "<Figure size 432x288 with 1 Axes>"
      ]
     },
     "metadata": {
      "needs_background": "light"
     },
     "output_type": "display_data"
    }
   ],
   "source": [
    "# Generate a pie plot showing the distribution of female versus male mice using pyplot\n",
    "\n",
    "#Plot with PyPlot\n",
    "plt.bar(Genderless_Mice.index,Genderless_Mice[0],width = 0.5)\n",
    "\n",
    "# Gets value of each gender and prints out the number in the respective bar.\n",
    "for i, Y_Values in enumerate((Genderless_Mice)):\n",
    "    plt.text(i,Y_Values/Y_Values, str(Y_Values), color = \"red\", fontsize = 18,horizontalalignment=\"center\")\n",
    "\n",
    "#Set title and labels    \n",
    "plt.title(\"Frequency of Mice Gender\")\n",
    "plt.ylabel(\"Total Count\")\n",
    "plt.xlabel(\"Gender\")\n",
    "\n"
   ]
  },
  {
   "cell_type": "markdown",
   "metadata": {},
   "source": [
    "## Quartiles, outliers and boxplots"
   ]
  },
  {
   "cell_type": "code",
   "execution_count": 8,
   "metadata": {
    "scrolled": false
   },
   "outputs": [
    {
     "name": "stdout",
     "output_type": "stream",
     "text": [
      "There are no outliers in Ramicane trial.\n",
      "There are no outliers in Capomulin trial.\n",
      "There are no outliers in Propriva trial.\n",
      "There are no outliers in Ceftamin trial.\n"
     ]
    }
   ],
   "source": [
    "# Calculate the final tumor volume of each mouse across four of the most promising treatment regimens. Calculate the IQR and quantitatively determine if there are any potential outliers.\n",
    "\n",
    "# Creates a list of number to indicate which row is the end of one mouse's data\n",
    "Final_Tumor_Index = []\n",
    "# Creates a list of the original column names to add to the final result.\n",
    "Columns = Combined_Results.columns\n",
    "\n",
    "# Goes through the list of data, finds the last row of each Mouse ID.\n",
    "for i in range(len(Combined_Results)-1):\n",
    "    if(Combined_Results.loc[i,\"Mouse ID\"] != Combined_Results.loc[i+1,\"Mouse ID\"]):\n",
    "        Final_Tumor_Index.append(i)\n",
    "\n",
    "# Using the list of last row IDs, use the original data, and grab only the last rows of each ID\n",
    "Final_Tumor_DF = Combined_Results.loc[Final_Tumor_Index,:]\n",
    "\n",
    "# This is for getting the last of the last. The index runs out and can't check next index for the last row.\n",
    "Final_Tumor_DF = Final_Tumor_DF.append(Combined_Results.loc[len(Combined_Results)-1])\n",
    "\n",
    "# Using Infomration_Table from summary statistics, sort the 10 drug regimen from best to worst on average.\n",
    "Information_Table = Information_Table.sort_values(by=[\"Mean\"])\n",
    "\n",
    "# Create a list of the top 4 regimen\n",
    "Top_4_Regimen = Information_Table.iloc[0:4,:].index\n",
    "\n",
    "# Create a list of the last 6 regimen. It was easier to erase than to add.\n",
    "Least_Effective_Regimen = Information_Table.iloc[4:len(Information_Table),:].index\n",
    "\n",
    "# Goes through the list of the last 6 regimen, using the Final Tumor Dataframe, delete the ones that are not top 4.\n",
    "for i in Least_Effective_Regimen:\n",
    "    Final_Tumor_DF = Final_Tumor_DF[Final_Tumor_DF[\"Drug Regimen\"] != i]\n",
    "\n",
    "# Gets the details for each of the top 4 regimens individually.\n",
    "First_Place_Regimen = Final_Tumor_DF[Final_Tumor_DF[\"Drug Regimen\"] == Top_4_Regimen[0]]\n",
    "Second_Place_Regimen = Final_Tumor_DF[Final_Tumor_DF[\"Drug Regimen\"] == Top_4_Regimen[1]]\n",
    "Third_Place_Regimen = Final_Tumor_DF[Final_Tumor_DF[\"Drug Regimen\"] == Top_4_Regimen[2]]\n",
    "Fourth_Place_Regimen = Final_Tumor_DF[Final_Tumor_DF[\"Drug Regimen\"] == Top_4_Regimen[3]]\n",
    "\n",
    "# Put the list in the list\n",
    "RegimenList = [First_Place_Regimen,Second_Place_Regimen,Third_Place_Regimen,Fourth_Place_Regimen]\n",
    "\n",
    "# Created a function to find IQR, median, lower boundary, upper boundary, lower quantile, and upper quantile\n",
    "# Also returns whether or not the regimen have any outliers in it.\n",
    "def GetOutlierBoundaries(Frame):\n",
    "    Frame_Tumor_Volume = Frame[\"Tumor Volume (mm3)\"]\n",
    "    Frame_Median = Frame_Tumor_Volume.median()\n",
    "    (Lower_Quantile, Higher_Quantile) = Frame_Tumor_Volume.quantile([0.25,0.75])\n",
    "    IQR = Higher_Quantile-Lower_Quantile\n",
    "    Lower_Boundary = Lower_Quantile - (1.5*IQR)\n",
    "    Higher_Boundary = Higher_Quantile + (1.5*IQR)\n",
    "    \n",
    "    output = [IQR,Frame_Median,Lower_Boundary,Higher_Boundary,Lower_Quantile,Higher_Quantile]\n",
    "    # Goes through each number in the regimen list, and finds a outlier. If there is even 1, then it returns True.\n",
    "    for i in Frame_Tumor_Volume:\n",
    "        if i > Higher_Boundary or i < Lower_Boundary:\n",
    "            return [output, True]\n",
    "    return [output,False]\n",
    "\n",
    "# Created BoxPlot_Details to store boxplot details\n",
    "BoxPlot_Details = []\n",
    "\n",
    "# For each Regimen in the top 4 list, run the function created above.\n",
    "# If there is outliers, then print out \"There are outliers in _______ trial.\"\n",
    "# If no outliers, then print \"There are no outliers in _______ trial.\"\n",
    "for i in RegimenList:\n",
    "    BoxPlot = GetOutlierBoundaries(i)\n",
    "    if(BoxPlot[-1]):        \n",
    "        print(f\"There are outliers in {i.iloc[1,1]} trial.\")\n",
    "    else:\n",
    "        print(f\"There are no outliers in {i.iloc[1,1]} trial.\")\n",
    "    BoxPlot_Details.append(BoxPlot)\n"
   ]
  },
  {
   "cell_type": "code",
   "execution_count": 9,
   "metadata": {},
   "outputs": [
    {
     "data": {
      "image/png": "[encoded data removed]",
      "text/plain": [
       "<Figure size 432x288 with 1 Axes>"
      ]
     },
     "metadata": {
      "needs_background": "light"
     },
     "output_type": "display_data"
    }
   ],
   "source": [
    "# Generate a box plot of the final tumor volume of each mouse across four regimens of interest\n",
    "plt.boxplot([First_Place_Regimen[\"Tumor Volume (mm3)\"],Second_Place_Regimen[\"Tumor Volume (mm3)\"],\n",
    "            Third_Place_Regimen[\"Tumor Volume (mm3)\"],Fourth_Place_Regimen[\"Tumor Volume (mm3)\"]],\n",
    "           widths = 0.2,\n",
    "           showfliers = True)\n",
    "# Create title, labels, and replaces the ticks with the regimen name.\n",
    "plt.title(\"Boxplot for Tumor Values in Top 4 Regimen\")\n",
    "plt.xticks([1,2,3,4],Top_4_Regimen)\n",
    "plt.xlabel(\"Regimen\")\n",
    "plt.ylabel(\"Tumor Volume (mm3)\")\n",
    "\n",
    "# Using the information I gathered, print out median, lower quantile, and upper quantile to their respective spots\n",
    "for i in range(len(BoxPlot_Details)):\n",
    "    plt.text(i+1.1, BoxPlot_Details[i][0][1],str(round(BoxPlot_Details[i][0][1],2)), verticalalignment = \"center\")\n",
    "    plt.text(i+1.1, BoxPlot_Details[i][0][4],str(round(BoxPlot_Details[i][0][4],2)), verticalalignment = \"center\")\n",
    "    plt.text(i+1.1, BoxPlot_Details[i][0][5],str(round(BoxPlot_Details[i][0][5],2)), verticalalignment = \"center\")\n",
    "    \n",
    "    "
   ]
  },
  {
   "cell_type": "markdown",
   "metadata": {},
   "source": [
    "## Line and scatter plots"
   ]
  },
  {
   "cell_type": "code",
   "execution_count": 10,
   "metadata": {},
   "outputs": [
    {
     "data": {
      "text/plain": [
       "Text(0.5, 1.0, 'Example of Tumor for Subject s185')"
      ]
     },
     "execution_count": 10,
     "metadata": {},
     "output_type": "execute_result"
    },
    {
     "data": {
      "image/png": "[encoded data removed]",
      "text/plain": [
       "<Figure size 432x288 with 1 Axes>"
      ]
     },
     "metadata": {
      "needs_background": "light"
     },
     "output_type": "display_data"
    }
   ],
   "source": [
    "# Generate a line plot of time point versus tumor volume for a mouse treated with Capomulin\n",
    "\n",
    "# Created a list of results only for Capomulin trial\n",
    "Capomulin = Combined_Results[Combined_Results[\"Drug Regimen\"]==\"Capomulin\"]\n",
    "\n",
    "# Instruction said any one mouse, so I grabbed the first mouse.\n",
    "Subject_ID = Capomulin.iloc[1,:][\"Mouse ID\"]\n",
    "\n",
    "# Using the ID of the first mouse, take all data relevant to the first mouse\n",
    "Capomulin_Example = Capomulin[Capomulin[\"Mouse ID\"]==Subject_ID]\n",
    "\n",
    "# Created x axis data with the time of each data.\n",
    "Time_Capomulin_Example = Capomulin_Example[\"Timepoint\"]\n",
    "\n",
    "# Created y axis data with the Tumor volume (mm3)\n",
    "Tumor_Volume_Capomulin_Example = Capomulin_Example[\"Tumor Volume (mm3)\"]\n",
    "\n",
    "#plot Tumor Volume vs Time.\n",
    "plt.plot(Time_Capomulin_Example,Tumor_Volume_Capomulin_Example, marker=\"o\", color=\"r\")\n",
    "\n",
    "#Labels and titles.\n",
    "plt.xlabel(\"Time\")\n",
    "plt.ylabel(\"Tumor Volume (mm3)\")\n",
    "plt.title(f\"Example of Tumor for Subject {Subject_ID}\")\n"
   ]
  },
  {
   "cell_type": "code",
   "execution_count": 11,
   "metadata": {},
   "outputs": [
    {
     "data": {
      "text/plain": [
       "Text(0, 0.5, 'Average Tumor Volume (mm3)')"
      ]
     },
     "execution_count": 11,
     "metadata": {},
     "output_type": "execute_result"
    },
    {
     "data": {
      "image/png": "[encoded data removed]",
      "text/plain": [
       "<Figure size 432x288 with 1 Axes>"
      ]
     },
     "metadata": {
      "needs_background": "light"
     },
     "output_type": "display_data"
    }
   ],
   "source": [
    "# Generate a scatter plot of mouse weight versus average tumor volume for the Capomulin regimen\n",
    "\n",
    "# Using the Capomulin information from before, create a summary of the results.\n",
    "Capomulin_Details = Capomulin.groupby(\"Mouse ID\").describe()\n",
    "\n",
    "# Grab the weight of each subject for x axis. It's all the same so the average should make it the same.\n",
    "Capomulin_Weight = Capomulin_Details[\"Weight (g)\"][\"mean\"]\n",
    "\n",
    "# Grab the average tumor volume of each subject for y axis.\n",
    "Capomulin_Tumor_Volume = Capomulin_Details[\"Tumor Volume (mm3)\"][\"mean\"]\n",
    "\n",
    "# Plot Tumor Volume vs Weight\n",
    "plt.scatter(Capomulin_Weight,Capomulin_Tumor_Volume,color=\"r\")\n",
    "\n",
    "# Titles and labels.\n",
    "plt.title(\"Average Tumor Volume vs Weight for Capomulin\")\n",
    "plt.xlabel(\"Weight (g)\")\n",
    "plt.ylabel(\"Average Tumor Volume (mm3)\")\n"
   ]
  },
  {
   "cell_type": "code",
   "execution_count": 12,
   "metadata": {},
   "outputs": [
    {
     "data": {
      "text/plain": [
       "Text(18, 35, 'R² = 0.84')"
      ]
     },
     "execution_count": 12,
     "metadata": {},
     "output_type": "execute_result"
    },
    {
     "data": {
      "image/png": "[encoded data removed]",
      "text/plain": [
       "<Figure size 432x288 with 1 Axes>"
      ]
     },
     "metadata": {
      "needs_background": "light"
     },
     "output_type": "display_data"
    }
   ],
   "source": [
    "# Calculate the correlation coefficient and linear regression model for mouse weight and average tumor volume for the Capomulin regimen\n",
    "\n",
    "# Find the slope, intercept, correlation coefficient, p-value and standard error using linregress from scipy.stats\n",
    "(slope,intercept, Corr_Coefficient, p, stderr) = st.linregress(Capomulin_Weight,Capomulin_Tumor_Volume)\n",
    "\n",
    "# Write the equation for best fit line.\n",
    "Equation = f\"y = {round(slope,2)}x + {round(intercept,2)}\"\n",
    "\n",
    "# Make a x and y axis to draw the line onto the graph.\n",
    "xline = np.arange(min(Capomulin_Weight)-2,max(Capomulin_Weight)+2,0.01)\n",
    "yline = (slope*xline) + intercept\n",
    "\n",
    "# Plot the same graph as before\n",
    "#----------------------------------------------------------------\n",
    "plt.scatter(Capomulin_Weight,Capomulin_Tumor_Volume,color=\"r\")\n",
    "plt.title(\"Average Tumor Volume vs Weight for Capomulin\")\n",
    "plt.xlabel(\"Weight (g)\")\n",
    "plt.ylabel(\"Average Tumor Volume (mm3)\")\n",
    "#----------------------------------------------------------------\n",
    "\n",
    "# Plot the line to show line of best fit.\n",
    "plt.plot(xline,yline,'b-')\n",
    "\n",
    "# Placed the equation on the graph where I saw would be least intrusive.\n",
    "plt.annotate(Equation,(18,37),fontsize=20,color=\"green\")\n",
    "\n",
    "# Placed the correlation coefficient on the graph where I saw would be least intrusive.\n",
    "plt.annotate(f\"R² = {round(Corr_Coefficient,2)}\",(18,35),fontsize=20,color=\"green\")"
   ]
  }
 ],
 "metadata": {
  "anaconda-cloud": {},
  "kernelspec": {
   "display_name": "Python [conda env:PythonData]",
   "language": "python",
   "name": "conda-env-PythonData-py"
  },
  "language_info": {
   "codemirror_mode": {
    "name": "ipython",
    "version": 3
   },
   "file_extension": ".py",
   "mimetype": "text/x-python",
   "name": "python",
   "nbconvert_exporter": "python",
   "pygments_lexer": "ipython3",
   "version": "3.6.9"
  }
 },
 "nbformat": 4,
 "nbformat_minor": 2
}
